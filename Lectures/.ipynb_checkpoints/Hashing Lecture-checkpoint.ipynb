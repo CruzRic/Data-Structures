{
 "cells": [
  {
   "cell_type": "markdown",
   "metadata": {},
   "source": [
    "# Hashing\n",
    "In this lecture we will go over the idea of a data structure called **hash tables** or it is also called **hashing**. When creating a hash table it is an array of some fixed size, containing the items. Each item has a **key** and addtional data fields that are associated with that key. Each **key** is mapped to an index in the array and placed in the appropriate position. For example an employee name being the key and its value being an object containing information about that employee. The mapping is called a **hash function**, which ideally should be simple to compute and should ensure that any two distinct keys get different cells. The goal of creating a hash function is such that it distributes the keys evenly among the cells in the hash table. \n",
    "\n",
    "<img src=\"./files/Hashing/hashtable.png\" width=\"90\"/>\n",
    "\n",
    "In this example *john* hashes to 3, *phil* hashes to 4, *dave* hashes to 6, and *mary* hashes to 7. This is the basic idea of hashing. The only remaining problems are coming up with a hash function and deciding what to do when two keys map to the same value (also known as **collusion**)\n",
    "The advantages of hash tables are that inserting, deleting, and searching are done in constant time, O(1). This is because with the use of the hash function we know exactly where each element in the hash table is. Lets take a look at an example where hashing would come in handy. Lets say we want to count the number of occurences each character has in a string. Without hashing this would take $O(26*N)$ since first we would have to loop through each character in the alphabet and then inside that for loop, go through each character in the string and count up the frequency. \n",
    "With hashing this can be done in O(N) time. Because we can use the character as the key and the value will be it's frequency. So while looping through the hash table we simply increment the value each time. We can see the code for this below:\n",
    "```python\n",
    "# Create an empty array of 26 characters\n",
    "hash_table = [0]*26\n",
    "\n",
    "def hash_function(x):\n",
    "    return x - 'a'\n",
    "\n",
    "for i in range(len(string)):\n",
    "    key = hash_function(string[i])\n",
    "    hash_table[key] += 1\n",
    "```\n",
    "\n",
    "## Hash Function\n",
    "Are simple idea for a hash function is merely returning *key mod tableSize* if the keys are integers. But sometimes the keys can have some undesirable properties. For example if the table size is 10 and all the keys divisible by 10 (i.e. they all end in a zero), then this function would be a bad choice as they would all map to 0. In this case the choice of the hash function needs to be carefully considered. This is also why it is generally a good idea to choose a prime number for the table size. <br>\n",
    "Usually the keys are strings; in this case, the hash function needs to be chosen carefully. One option is to use the sum of the ASCII values of the characters in the string mod table size. This function is rather simple and quick however it is not a very good hash function. If all the keys have the same characters then they will all map to the same value creating a collusion for every entry. An alternate idea is to again use them sum of ascii values but also each value is multiplied by it's position in the string then take the value mod tableSize. The algorithm for this is seen below:\n",
    "```python\n",
    "def hash_function(string, table_size):\n",
    "    hash_val = 0\n",
    "    for i in range(len(string)):\n",
    "        hash_val = ascii_value(string[i]) * i\n",
    "\n",
    "    return hash_val % table_size\n",
    "```\n",
    "The main detail left is collusion resolution, If, when an element is inserted, it hashes to the same value as an already inserted element, then we have a **collision** and need to resolve it. We will describe two methods to resolve this: separate chaining and open addressing.\n",
    "\n",
    "## Separate Chaining\n",
    "The first strategy is known as **separate chaining**, is to keep a list of all elements that hash to the same value. For this each index would contain a doubly-linked list of keys that map to that index. The running example we will use throughout is that all the keys are perfect squares and the hashing function is key mod 10.\n",
    "Below is an example with keys, 0, 81, 1, 64, 4, 25, 36, 16, 49, 9. \n",
    "<img src=\"./files/Hashing/separate-chaining.png\" width=\"250\"/>\n",
    "To perform a search we would first get the hash value of the key then search throughout the list for that specific key. For inserting we would also have to check the list to see if the element already exist. The convention is to insert the new element at the front of the list since recent items added are most likely to be acccessed. <br>\n",
    "   \n",
    "## Open Addressing\n",
    "Seperate chaining has the disadvantage of using linked lists. This could slow down the algorithm of searching, since searching a linked list is linear time, O(N). An alternative to resolving collisions with linked lists is to try alternative cells until an empty cell is found. Since all the data goes inside the hash table, unlike separate chaining where it's stored in a list, a bigger table is needed. We call such tables that use open addressing schemes **probing hash tables**. We will now look at three common schemes. \n",
    "\n",
    "### Linear Probing\n"
   ]
  },
  {
   "cell_type": "code",
   "execution_count": null,
   "metadata": {},
   "outputs": [],
   "source": []
  }
 ],
 "metadata": {
  "kernelspec": {
   "display_name": "Python 3",
   "language": "python",
   "name": "python3"
  },
  "language_info": {
   "codemirror_mode": {
    "name": "ipython",
    "version": 3
   },
   "file_extension": ".py",
   "mimetype": "text/x-python",
   "name": "python",
   "nbconvert_exporter": "python",
   "pygments_lexer": "ipython3",
   "version": "3.6.8"
  }
 },
 "nbformat": 4,
 "nbformat_minor": 2
}
